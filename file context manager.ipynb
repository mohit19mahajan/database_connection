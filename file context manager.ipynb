{
 "cells": [
  {
   "cell_type": "code",
   "execution_count": 3,
   "metadata": {},
   "outputs": [
    {
     "name": "stdout",
     "output_type": "stream",
     "text": [
      "File name and mode accepted\n",
      "File is being read\n",
      "file is being called\n",
      "File is being closed\n",
      "True\n"
     ]
    }
   ],
   "source": [
    "# Exampe 2: context manager \n",
    "  \n",
    "class FileManager(): \n",
    "    def __init__(self, filename,mode): \n",
    "        self.filename = filename \n",
    "        self.mode=mode\n",
    "        print(\"File name and mode accepted\")\n",
    "        \n",
    "          \n",
    "    def __enter__(self): \n",
    "        self.file = open(self.filename,self.mode) \n",
    "        print(\"File is being read\")\n",
    "        return self.file\n",
    "      \n",
    "    def __exit__(self, exc_type, exc_value, exc_traceback):\n",
    "        print(\"File is being closed\")\n",
    "        self.file.close() \n",
    "  \n",
    "# loading a file  \n",
    "with FileManager('test.txt','b') as f:    # r, r+, w, w+, r+w\n",
    "    print(\"file is being called\")\n",
    "    f.write('2nd check') \n",
    "  \n",
    "print(f.closed)"
   ]
  },
  {
   "cell_type": "code",
   "execution_count": 7,
   "metadata": {},
   "outputs": [
    {
     "name": "stdout",
     "output_type": "stream",
     "text": [
      "Initialized\n",
      "File is read\n",
      "file is being written\n",
      "Closing file\n"
     ]
    }
   ],
   "source": [
    "class FileManager():\n",
    "    def __init__(self, filename, mode):\n",
    "        self.filename = filename\n",
    "        self.mode = mode\n",
    "        print(\"Initialized\")\n",
    "    \n",
    "    def __enter__(self):\n",
    "        self.file = open(self.filename,self.mode)\n",
    "        print(\"File is read\")\n",
    "        return self.file\n",
    "    def __exit__(self, exc_type, exc_value, exc_traceback):\n",
    "        print(\"Closing file\")\n",
    "        self.file.close()\n",
    "        \n",
    "with FileManager('test.txt','a') as f:\n",
    "    print(\"file is being written\")\n",
    "    f.write('\\n4 check')"
   ]
  },
  {
   "cell_type": "code",
   "execution_count": null,
   "metadata": {},
   "outputs": [],
   "source": []
  }
 ],
 "metadata": {
  "kernelspec": {
   "display_name": "Python 3",
   "language": "python",
   "name": "python3"
  },
  "language_info": {
   "codemirror_mode": {
    "name": "ipython",
    "version": 3
   },
   "file_extension": ".py",
   "mimetype": "text/x-python",
   "name": "python",
   "nbconvert_exporter": "python",
   "pygments_lexer": "ipython3",
   "version": "3.7.4"
  }
 },
 "nbformat": 4,
 "nbformat_minor": 2
}
